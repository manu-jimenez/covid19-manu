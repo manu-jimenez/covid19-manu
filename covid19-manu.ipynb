{
 "cells": [
  {
   "cell_type": "code",
   "execution_count": 140,
   "metadata": {},
   "outputs": [],
   "source": [
    "# Libraries and figure settings\n",
    "%matplotlib inline\n",
    "\n",
    "import numpy as np\n",
    "import pandas as pd\n",
    "from datetime import datetime\n",
    "import matplotlib.pyplot as plt\n",
    "import seaborn as sns\n",
    "import requests\n",
    "import time\n",
    "import matplotlib\n",
    "plt.style.use('fivethirtyeight')"
   ]
  },
  {
   "cell_type": "markdown",
   "metadata": {},
   "source": [
    "### TODO: \n",
    "- Simplificar nombres CCAA\n",
    "- Calcular total nacional\n",
    "- Calcular valores per capita\n",
    "- Mostrar lineas verticales en las visualizaciones\n",
    "- Arreglar figura superior"
   ]
  },
  {
   "cell_type": "markdown",
   "metadata": {},
   "source": [
    "## COVID-19 data analysis\n",
    "\n",
    "Voy a utilizar el dataset del centro nacional de epidemiologia (se actualiza todos los dias)"
   ]
  },
  {
   "cell_type": "code",
   "execution_count": 141,
   "metadata": {},
   "outputs": [],
   "source": [
    "req = requests.get(\"https://covid19.isciii.es/resources/serie_historica_acumulados.csv\")\n",
    "csv = req.content.decode('ISO-8859-1')\n",
    "\n",
    "filename = 'serie_historica_acumulados.csv'\n",
    "with open(filename, 'w') as f:\n",
    "    f.write(csv)"
   ]
  },
  {
   "cell_type": "markdown",
   "metadata": {},
   "source": [
    "### Obtengo el censo de CCAA de España\n",
    "\n",
    "Una vez más, los datos los he sacado de https://datos.gob.es/\n",
    "\n",
    "```\n",
    "https://datos.gob.es/es/catalogo/ea0010587-poblacion-por-sexo-edad-grupos-quinquenales-y-pais-de-nacimiento-comunidades-autonomas-y-provincias-censos-de-poblacion-y-viviendas-identificador-api-t20-e244-avance-p01-l0-04007-px\n",
    "```\n"
   ]
  },
  {
   "cell_type": "code",
   "execution_count": 169,
   "metadata": {},
   "outputs": [
    {
     "data": {
      "text/html": [
       "<div>\n",
       "<style>\n",
       "    .dataframe thead tr:only-child th {\n",
       "        text-align: right;\n",
       "    }\n",
       "\n",
       "    .dataframe thead th {\n",
       "        text-align: left;\n",
       "    }\n",
       "\n",
       "    .dataframe tbody tr th {\n",
       "        vertical-align: top;\n",
       "    }\n",
       "</style>\n",
       "<table border=\"1\" class=\"dataframe\">\n",
       "  <thead>\n",
       "    <tr style=\"text-align: right;\">\n",
       "      <th></th>\n",
       "      <th>CCAA</th>\n",
       "      <th>Poblacion</th>\n",
       "    </tr>\n",
       "  </thead>\n",
       "  <tbody>\n",
       "    <tr>\n",
       "      <th>0</th>\n",
       "      <td>Total Nacional</td>\n",
       "      <td>46815916</td>\n",
       "    </tr>\n",
       "    <tr>\n",
       "      <th>1</th>\n",
       "      <td>Andalucía</td>\n",
       "      <td>8371270</td>\n",
       "    </tr>\n",
       "    <tr>\n",
       "      <th>2</th>\n",
       "      <td>Aragón</td>\n",
       "      <td>1344509</td>\n",
       "    </tr>\n",
       "    <tr>\n",
       "      <th>3</th>\n",
       "      <td>Asturias, Principado De</td>\n",
       "      <td>1075183</td>\n",
       "    </tr>\n",
       "    <tr>\n",
       "      <th>4</th>\n",
       "      <td>Balears, Illes</td>\n",
       "      <td>1100503</td>\n",
       "    </tr>\n",
       "    <tr>\n",
       "      <th>5</th>\n",
       "      <td>Canarias</td>\n",
       "      <td>2082655</td>\n",
       "    </tr>\n",
       "    <tr>\n",
       "      <th>6</th>\n",
       "      <td>Cantabria</td>\n",
       "      <td>592542</td>\n",
       "    </tr>\n",
       "    <tr>\n",
       "      <th>7</th>\n",
       "      <td>Castilla Y León</td>\n",
       "      <td>2540188</td>\n",
       "    </tr>\n",
       "    <tr>\n",
       "      <th>8</th>\n",
       "      <td>Castilla-La Mancha</td>\n",
       "      <td>2106331</td>\n",
       "    </tr>\n",
       "    <tr>\n",
       "      <th>9</th>\n",
       "      <td>Cataluña</td>\n",
       "      <td>7519843</td>\n",
       "    </tr>\n",
       "    <tr>\n",
       "      <th>10</th>\n",
       "      <td>Comunitat Valenciana</td>\n",
       "      <td>5009931</td>\n",
       "    </tr>\n",
       "    <tr>\n",
       "      <th>11</th>\n",
       "      <td>Extremadura</td>\n",
       "      <td>1104499</td>\n",
       "    </tr>\n",
       "    <tr>\n",
       "      <th>12</th>\n",
       "      <td>Galicia</td>\n",
       "      <td>2772928</td>\n",
       "    </tr>\n",
       "    <tr>\n",
       "      <th>13</th>\n",
       "      <td>Madrid, Comunidad De</td>\n",
       "      <td>6421874</td>\n",
       "    </tr>\n",
       "    <tr>\n",
       "      <th>14</th>\n",
       "      <td>Murcia, Región De</td>\n",
       "      <td>1462128</td>\n",
       "    </tr>\n",
       "    <tr>\n",
       "      <th>15</th>\n",
       "      <td>Navarra, Comunidad Foral De</td>\n",
       "      <td>640129</td>\n",
       "    </tr>\n",
       "    <tr>\n",
       "      <th>16</th>\n",
       "      <td>País Vasco</td>\n",
       "      <td>2185393</td>\n",
       "    </tr>\n",
       "    <tr>\n",
       "      <th>17</th>\n",
       "      <td>Rioja, La</td>\n",
       "      <td>321173</td>\n",
       "    </tr>\n",
       "    <tr>\n",
       "      <th>18</th>\n",
       "      <td>Ceuta</td>\n",
       "      <td>83517</td>\n",
       "    </tr>\n",
       "    <tr>\n",
       "      <th>19</th>\n",
       "      <td>Melilla</td>\n",
       "      <td>81323</td>\n",
       "    </tr>\n",
       "  </tbody>\n",
       "</table>\n",
       "</div>"
      ],
      "text/plain": [
       "                           CCAA  Poblacion\n",
       "0                Total Nacional   46815916\n",
       "1                     Andalucía    8371270\n",
       "2                        Aragón    1344509\n",
       "3       Asturias, Principado De    1075183\n",
       "4                Balears, Illes    1100503\n",
       "5                      Canarias    2082655\n",
       "6                     Cantabria     592542\n",
       "7               Castilla Y León    2540188\n",
       "8            Castilla-La Mancha    2106331\n",
       "9                      Cataluña    7519843\n",
       "10         Comunitat Valenciana    5009931\n",
       "11                  Extremadura    1104499\n",
       "12                      Galicia    2772928\n",
       "13         Madrid, Comunidad De    6421874\n",
       "14            Murcia, Región De    1462128\n",
       "15  Navarra, Comunidad Foral De     640129\n",
       "16                   País Vasco    2185393\n",
       "17                    Rioja, La     321173\n",
       "18                        Ceuta      83517\n",
       "19                      Melilla      81323"
      ]
     },
     "execution_count": 169,
     "metadata": {},
     "output_type": "execute_result"
    }
   ],
   "source": [
    "censo=pd.read_csv('censo_espana_2011.csv', skiprows=5, nrows=63, sep=';', header=[0,1], index_col=0) # a partir de esta fila segregan los datos por pais de origen\n",
    "\n",
    "censo_total = censo['Ambos sexos'].reset_index()\n",
    "censo_total['TOTAL'] = censo_total['TOTAL'].apply(lambda x: x.strip()) # elimino espacios innecesarios\n",
    "censo_total['Total'] = censo_total['Total'].apply(lambda x: int(x.replace('.', '')))\n",
    "\n",
    "es_ccaa = censo_total.TOTAL == censo_total.TOTAL.apply(lambda x: x.upper()) # las CCAA vienen en todo mayusculas\n",
    "ceuta_melilla = censo_total.TOTAL.isin(['Ceuta', 'Melilla'])\n",
    "censo_ccaa = censo_total[es_ccaa | ceuta_melilla].reset_index(drop=True)\n",
    "\n",
    "censo_ccaa = censo_ccaa.rename(columns={'TOTAL':'CCAA', 'Total':'Poblacion'})\n",
    "\n",
    "censo_ccaa['CCAA'] = censo_ccaa['CCAA'].apply(lambda x: x.lower().title()) # title es como capitalize() pero para todas las palabras de la cadena\n",
    "censo_ccaa\n",
    "\n",
    "# censo_ccaa[censo_ccaa.CCAA != 'Total Nacional'].Poblacion.sum()  # 46815919 check"
   ]
  },
  {
   "cell_type": "code",
   "execution_count": 174,
   "metadata": {},
   "outputs": [],
   "source": [
    "nombres_ccaa = {'AN':'Andalucía', 'AR':'Aragón', 'AS':'Asturias, Principado De', 'CB':'Cantabria', 'CE':'Ceuta', 'CL':'Castilla Y León',\n",
    "                'CM':'Castilla-La Mancha', 'CN':'Navarra, Comunidad Foral De', 'CT':'Cataluña', 'EX':'Extremadura', 'GA':'Galicia',\n",
    "                'IB':'Balears, Illes', 'MC':'Murcia, Región De', 'MD':'Madrid, Comunidad De', 'ME':'Melilla', 'NC':'Total Nacional',\n",
    "                'PV':'País Vasco', 'RI':'Rioja, La', 'VC':'Comunitat Valenciana'}"
   ]
  },
  {
   "cell_type": "markdown",
   "metadata": {},
   "source": [
    "### Parseo los datos de la epidemia"
   ]
  },
  {
   "cell_type": "code",
   "execution_count": 225,
   "metadata": {},
   "outputs": [
    {
     "name": "stdout",
     "output_type": "stream",
     "text": [
      "CCAA                            object\n",
      "Fecha                   datetime64[ns]\n",
      "Casos                          float64\n",
      "Hospitalizados                 float64\n",
      "UCI                            float64\n",
      "Fallecidos                     float64\n",
      "nuevosCasos                    float64\n",
      "nuevosHospitalizados           float64\n",
      "nuevosUCI                      float64\n",
      "nuevosFallecidos               float64\n",
      "Dias                             int64\n",
      "dtype: object\n"
     ]
    },
    {
     "data": {
      "text/html": [
       "<div>\n",
       "<style>\n",
       "    .dataframe thead tr:only-child th {\n",
       "        text-align: right;\n",
       "    }\n",
       "\n",
       "    .dataframe thead th {\n",
       "        text-align: left;\n",
       "    }\n",
       "\n",
       "    .dataframe tbody tr th {\n",
       "        vertical-align: top;\n",
       "    }\n",
       "</style>\n",
       "<table border=\"1\" class=\"dataframe\">\n",
       "  <thead>\n",
       "    <tr style=\"text-align: right;\">\n",
       "      <th></th>\n",
       "      <th>CCAA</th>\n",
       "      <th>Fecha</th>\n",
       "      <th>Casos</th>\n",
       "      <th>Hospitalizados</th>\n",
       "      <th>UCI</th>\n",
       "      <th>Fallecidos</th>\n",
       "      <th>nuevosCasos</th>\n",
       "      <th>nuevosHospitalizados</th>\n",
       "      <th>nuevosUCI</th>\n",
       "      <th>nuevosFallecidos</th>\n",
       "      <th>Dias</th>\n",
       "    </tr>\n",
       "  </thead>\n",
       "  <tbody>\n",
       "    <tr>\n",
       "      <th>114</th>\n",
       "      <td>Andalucía</td>\n",
       "      <td>2020-02-26</td>\n",
       "      <td>1.0</td>\n",
       "      <td>0.0</td>\n",
       "      <td>0.0</td>\n",
       "      <td>0.0</td>\n",
       "      <td>0.0</td>\n",
       "      <td>0.0</td>\n",
       "      <td>0.0</td>\n",
       "      <td>0.0</td>\n",
       "      <td>0</td>\n",
       "    </tr>\n",
       "    <tr>\n",
       "      <th>133</th>\n",
       "      <td>Andalucía</td>\n",
       "      <td>2020-02-27</td>\n",
       "      <td>6.0</td>\n",
       "      <td>0.0</td>\n",
       "      <td>0.0</td>\n",
       "      <td>0.0</td>\n",
       "      <td>5.0</td>\n",
       "      <td>0.0</td>\n",
       "      <td>0.0</td>\n",
       "      <td>0.0</td>\n",
       "      <td>1</td>\n",
       "    </tr>\n",
       "    <tr>\n",
       "      <th>152</th>\n",
       "      <td>Andalucía</td>\n",
       "      <td>2020-02-28</td>\n",
       "      <td>8.0</td>\n",
       "      <td>0.0</td>\n",
       "      <td>0.0</td>\n",
       "      <td>0.0</td>\n",
       "      <td>2.0</td>\n",
       "      <td>0.0</td>\n",
       "      <td>0.0</td>\n",
       "      <td>0.0</td>\n",
       "      <td>2</td>\n",
       "    </tr>\n",
       "    <tr>\n",
       "      <th>171</th>\n",
       "      <td>Andalucía</td>\n",
       "      <td>2020-02-29</td>\n",
       "      <td>12.0</td>\n",
       "      <td>0.0</td>\n",
       "      <td>0.0</td>\n",
       "      <td>0.0</td>\n",
       "      <td>4.0</td>\n",
       "      <td>0.0</td>\n",
       "      <td>0.0</td>\n",
       "      <td>0.0</td>\n",
       "      <td>3</td>\n",
       "    </tr>\n",
       "    <tr>\n",
       "      <th>190</th>\n",
       "      <td>Andalucía</td>\n",
       "      <td>2020-03-01</td>\n",
       "      <td>12.0</td>\n",
       "      <td>0.0</td>\n",
       "      <td>0.0</td>\n",
       "      <td>0.0</td>\n",
       "      <td>0.0</td>\n",
       "      <td>0.0</td>\n",
       "      <td>0.0</td>\n",
       "      <td>0.0</td>\n",
       "      <td>4</td>\n",
       "    </tr>\n",
       "  </tbody>\n",
       "</table>\n",
       "</div>"
      ],
      "text/plain": [
       "          CCAA      Fecha  Casos  Hospitalizados  UCI  Fallecidos  \\\n",
       "114  Andalucía 2020-02-26    1.0             0.0  0.0         0.0   \n",
       "133  Andalucía 2020-02-27    6.0             0.0  0.0         0.0   \n",
       "152  Andalucía 2020-02-28    8.0             0.0  0.0         0.0   \n",
       "171  Andalucía 2020-02-29   12.0             0.0  0.0         0.0   \n",
       "190  Andalucía 2020-03-01   12.0             0.0  0.0         0.0   \n",
       "\n",
       "     nuevosCasos  nuevosHospitalizados  nuevosUCI  nuevosFallecidos  Dias  \n",
       "114          0.0                   0.0        0.0               0.0     0  \n",
       "133          5.0                   0.0        0.0               0.0     1  \n",
       "152          2.0                   0.0        0.0               0.0     2  \n",
       "171          4.0                   0.0        0.0               0.0     3  \n",
       "190          0.0                   0.0        0.0               0.0     4  "
      ]
     },
     "execution_count": 225,
     "metadata": {},
     "output_type": "execute_result"
    }
   ],
   "source": [
    "df = pd.read_csv('serie_historica_acumulados.csv', parse_dates=[1], infer_datetime_format=True )\n",
    "df = df[:-1]  # elimino comentario de la ultima fila\n",
    "df = df.rename(columns={'CCAA Codigo ISO':'CCAA', 'Casos ':'Casos'})\n",
    "df = df.fillna(0)\n",
    "df['CCAA'] = df['CCAA'].apply(lambda x: nombres_ccaa[x])\n",
    "\n",
    "# Elimino los registros sin casos\n",
    "df = df[df['Casos'] > 0]\n",
    "\n",
    "# Calculo los nuevos casos por CCAA\n",
    "df = df.sort_values(by=['CCAA','Fecha'])\n",
    "for col in ['Casos', 'Hospitalizados', 'UCI', 'Fallecidos']:\n",
    "    df['nuevos' + col] = df.groupby('CCAA')[col].diff().fillna(0)\n",
    "\n",
    "# Dias desde el inicio de la epidemia por CCAA\n",
    "df['Dias'] = df.groupby('CCAA')['Fecha'].transform(lambda x: x - x.iloc[0]).dt.days  # magia negra\n",
    "\n",
    "print(df.dtypes)\n",
    "df.head()"
   ]
  },
  {
   "cell_type": "code",
   "execution_count": 226,
   "metadata": {},
   "outputs": [],
   "source": [
    "# fechas cuarentena (fuente: https://es.wikipedia.org/wiki/Cuarentena_de_Espa%C3%B1a_de_2020 )\n",
    "inicio_cuarentena_madrid = np.datetime64('2020-03-11') # cierre colegios?\n",
    "inicio_cuarentena = np.datetime64('2020-03-15')\n",
    "fase_dos_cuarentena = np.datetime64('2020-03-30')\n"
   ]
  },
  {
   "cell_type": "markdown",
   "metadata": {},
   "source": [
    "### Nuevos casos vs Total Casos\n",
    "\n",
    "# EL TOTAL NACIONAL ESTÁ MAL CALCULADO"
   ]
  },
  {
   "cell_type": "code",
   "execution_count": 254,
   "metadata": {},
   "outputs": [
    {
     "data": {
      "text/plain": [
       "array(['Andalucía', 'Aragón', 'Asturias, Principado De', 'Balears, Illes',\n",
       "       'Cantabria', 'Castilla Y León', 'Castilla-La Mancha', 'Cataluña',\n",
       "       'Ceuta', 'Comunitat Valenciana', 'Extremadura', 'Galicia',\n",
       "       'Madrid, Comunidad De', 'Melilla', 'Murcia, Región De',\n",
       "       'Navarra, Comunidad Foral De', 'País Vasco', 'Rioja, La',\n",
       "       'Total Nacional'], dtype=object)"
      ]
     },
     "execution_count": 254,
     "metadata": {},
     "output_type": "execute_result"
    }
   ],
   "source": [
    "df.CCAA.unique()"
   ]
  },
  {
   "cell_type": "code",
   "execution_count": 259,
   "metadata": {},
   "outputs": [
    {
     "data": {
      "image/png": "[encoded data removed]",
      "text/plain": [
       "<matplotlib.figure.Figure at 0x11ecbcc50>"
      ]
     },
     "metadata": {},
     "output_type": "display_data"
    }
   ],
   "source": [
    "fig, ax = plt.subplots()\n",
    "\n",
    "selected_ccaa = ['Total Nacional', 'Madrid, Comunidad De', 'Cataluña', 'Andalucía']\n",
    "\n",
    "for ccaa in selected_ccaa:\n",
    "    df[df.CCAA == ccaa].plot(x='Casos', y='nuevosCasos', marker='o', lw=1, ax=ax, label=ccaa, loglog=True, figsize=(12, 8))\n",
    "    "
   ]
  },
  {
   "cell_type": "code",
   "execution_count": null,
   "metadata": {},
   "outputs": [],
   "source": []
  },
  {
   "cell_type": "markdown",
   "metadata": {},
   "source": [
    "### Algunas visualizaciones para Madrid\n",
    "\n",
    "Parece que faltan datos de Hospitalizados, UCI y Fallecidos los primeros días"
   ]
  },
  {
   "cell_type": "code",
   "execution_count": 223,
   "metadata": {},
   "outputs": [
    {
     "data": {
      "text/html": [
       "<div>\n",
       "<style>\n",
       "    .dataframe thead tr:only-child th {\n",
       "        text-align: right;\n",
       "    }\n",
       "\n",
       "    .dataframe thead th {\n",
       "        text-align: left;\n",
       "    }\n",
       "\n",
       "    .dataframe tbody tr th {\n",
       "        vertical-align: top;\n",
       "    }\n",
       "</style>\n",
       "<table border=\"1\" class=\"dataframe\">\n",
       "  <thead>\n",
       "    <tr style=\"text-align: right;\">\n",
       "      <th></th>\n",
       "      <th>CCAA</th>\n",
       "      <th>Fecha</th>\n",
       "      <th>Casos</th>\n",
       "      <th>Hospitalizados</th>\n",
       "      <th>UCI</th>\n",
       "      <th>Fallecidos</th>\n",
       "      <th>nuevosCasos</th>\n",
       "      <th>nuevosHospitalizados</th>\n",
       "      <th>nuevosUCI</th>\n",
       "      <th>nuevosFallecidos</th>\n",
       "      <th>Dias</th>\n",
       "    </tr>\n",
       "  </thead>\n",
       "  <tbody>\n",
       "    <tr>\n",
       "      <th>108</th>\n",
       "      <td>Madrid, Comunidad De</td>\n",
       "      <td>2020-02-25</td>\n",
       "      <td>2.0</td>\n",
       "      <td>0.0</td>\n",
       "      <td>0.0</td>\n",
       "      <td>0.0</td>\n",
       "      <td>0.0</td>\n",
       "      <td>0.0</td>\n",
       "      <td>0.0</td>\n",
       "      <td>0.0</td>\n",
       "      <td>0</td>\n",
       "    </tr>\n",
       "    <tr>\n",
       "      <th>127</th>\n",
       "      <td>Madrid, Comunidad De</td>\n",
       "      <td>2020-02-26</td>\n",
       "      <td>4.0</td>\n",
       "      <td>0.0</td>\n",
       "      <td>0.0</td>\n",
       "      <td>0.0</td>\n",
       "      <td>2.0</td>\n",
       "      <td>0.0</td>\n",
       "      <td>0.0</td>\n",
       "      <td>0.0</td>\n",
       "      <td>1</td>\n",
       "    </tr>\n",
       "    <tr>\n",
       "      <th>146</th>\n",
       "      <td>Madrid, Comunidad De</td>\n",
       "      <td>2020-02-27</td>\n",
       "      <td>5.0</td>\n",
       "      <td>0.0</td>\n",
       "      <td>0.0</td>\n",
       "      <td>0.0</td>\n",
       "      <td>1.0</td>\n",
       "      <td>0.0</td>\n",
       "      <td>0.0</td>\n",
       "      <td>0.0</td>\n",
       "      <td>2</td>\n",
       "    </tr>\n",
       "    <tr>\n",
       "      <th>165</th>\n",
       "      <td>Madrid, Comunidad De</td>\n",
       "      <td>2020-02-28</td>\n",
       "      <td>8.0</td>\n",
       "      <td>0.0</td>\n",
       "      <td>0.0</td>\n",
       "      <td>0.0</td>\n",
       "      <td>3.0</td>\n",
       "      <td>0.0</td>\n",
       "      <td>0.0</td>\n",
       "      <td>0.0</td>\n",
       "      <td>3</td>\n",
       "    </tr>\n",
       "    <tr>\n",
       "      <th>184</th>\n",
       "      <td>Madrid, Comunidad De</td>\n",
       "      <td>2020-02-29</td>\n",
       "      <td>10.0</td>\n",
       "      <td>0.0</td>\n",
       "      <td>0.0</td>\n",
       "      <td>0.0</td>\n",
       "      <td>2.0</td>\n",
       "      <td>0.0</td>\n",
       "      <td>0.0</td>\n",
       "      <td>0.0</td>\n",
       "      <td>4</td>\n",
       "    </tr>\n",
       "  </tbody>\n",
       "</table>\n",
       "</div>"
      ],
      "text/plain": [
       "                     CCAA      Fecha  Casos  Hospitalizados  UCI  Fallecidos  \\\n",
       "108  Madrid, Comunidad De 2020-02-25    2.0             0.0  0.0         0.0   \n",
       "127  Madrid, Comunidad De 2020-02-26    4.0             0.0  0.0         0.0   \n",
       "146  Madrid, Comunidad De 2020-02-27    5.0             0.0  0.0         0.0   \n",
       "165  Madrid, Comunidad De 2020-02-28    8.0             0.0  0.0         0.0   \n",
       "184  Madrid, Comunidad De 2020-02-29   10.0             0.0  0.0         0.0   \n",
       "\n",
       "     nuevosCasos  nuevosHospitalizados  nuevosUCI  nuevosFallecidos  Dias  \n",
       "108          0.0                   0.0        0.0               0.0     0  \n",
       "127          2.0                   0.0        0.0               0.0     1  \n",
       "146          1.0                   0.0        0.0               0.0     2  \n",
       "165          3.0                   0.0        0.0               0.0     3  \n",
       "184          2.0                   0.0        0.0               0.0     4  "
      ]
     },
     "execution_count": 223,
     "metadata": {},
     "output_type": "execute_result"
    }
   ],
   "source": [
    "madrid = df[df.CCAA == 'Madrid, Comunidad De']\n",
    "madrid.head()"
   ]
  },
  {
   "cell_type": "code",
   "execution_count": 246,
   "metadata": {},
   "outputs": [
    {
     "name": "stderr",
     "output_type": "stream",
     "text": [
      "/Users/Manu/anaconda/lib/python3.6/site-packages/matplotlib/figure.py:403: UserWarning: matplotlib is currently using a non-GUI backend, so cannot show the figure\n",
      "  \"matplotlib is currently using a non-GUI backend, \"\n"
     ]
    },
    {
     "data": {
      "image/png": "[encoded data removed]",
      "text/plain": [
       "<matplotlib.figure.Figure at 0x11d934d30>"
      ]
     },
     "metadata": {},
     "output_type": "display_data"
    }
   ],
   "source": [
    "es_madrid = df.CCAA.apply(lambda x: x.find('Madrid') != -1) # otra manera de filtrar por CCAA\n",
    "\n",
    "fig, ax = plt.subplots()\n",
    "\n",
    "nuax = df[es_madrid].plot(x='Fecha', y=['Casos', 'Fallecidos'],  #'Hospitalizados','UCI', \n",
    "                   kind='bar',  width=1.0, figsize=(12,4), logy=True, ax=ax)\n",
    "\n",
    "nuax.plot([inicio_cuarentena_madrid]*2, [0.1, 10**5], 'k')\n",
    "fig.show()\n",
    "#ax.axvline(x=inicio_cuarentena_madrid, ymin=0.1, ymax=10**5, color='k')\n",
    "#ax.axvline(pd.to_datetime(inicio_cuarentena_madrid), color='k', linestyle='--', lw=10)\n"
   ]
  },
  {
   "cell_type": "code",
   "execution_count": 242,
   "metadata": {},
   "outputs": [
    {
     "data": {
      "text/plain": [
       "100000"
      ]
     },
     "execution_count": 242,
     "metadata": {},
     "output_type": "execute_result"
    }
   ],
   "source": [
    "10**5"
   ]
  },
  {
   "cell_type": "code",
   "execution_count": 224,
   "metadata": {},
   "outputs": [
    {
     "data": {
      "text/plain": [
       "<matplotlib.axes._subplots.AxesSubplot at 0x11aa6b748>"
      ]
     },
     "execution_count": 224,
     "metadata": {},
     "output_type": "execute_result"
    },
    {
     "data": {
      "image/png": "[encoded data removed]",
      "text/plain": [
       "<matplotlib.figure.Figure at 0x11aa2f710>"
      ]
     },
     "metadata": {},
     "output_type": "display_data"
    }
   ],
   "source": [
    "df[es_madrid].plot(x='Dias', y=['nuevosCasos', 'nuevosHospitalizados','nuevosUCI', 'nuevosFallecidos'], \n",
    "                   kind='bar',  width=1.0, figsize=(12,4), logy=False, )"
   ]
  },
  {
   "cell_type": "code",
   "execution_count": null,
   "metadata": {},
   "outputs": [],
   "source": []
  }
 ],
 "metadata": {
  "kernelspec": {
   "display_name": "Python 3",
   "language": "python",
   "name": "python3"
  },
  "language_info": {
   "codemirror_mode": {
    "name": "ipython",
    "version": 3
   },
   "file_extension": ".py",
   "mimetype": "text/x-python",
   "name": "python",
   "nbconvert_exporter": "python",
   "pygments_lexer": "ipython3",
   "version": "3.6.1"
  }
 },
 "nbformat": 4,
 "nbformat_minor": 2
}
